{
 "cells": [
  {
   "cell_type": "code",
   "execution_count": 1,
   "metadata": {},
   "outputs": [],
   "source": [
    "import pandas as pd\n",
    "import json\n",
    "import matplotlib.pyplot as plt\n",
    "import os"
   ]
  },
  {
   "cell_type": "code",
   "execution_count": 22,
   "metadata": {},
   "outputs": [],
   "source": [
    "output_folder = './output/Meta-Llama-3-8B-Instruct/'\n",
    "\n",
    "output_file = 'male_1_results.json'\n",
    "dictionary_folder= './dataset/'\n",
    "dictionary_file = 'NRC-Emotion-Lexicon-Wordlevel-v0.92.txt'\n",
    "target_group_name= output_file.split(\"_\")[0]"
   ]
  },
  {
   "cell_type": "code",
   "execution_count": 23,
   "metadata": {},
   "outputs": [],
   "source": [
    "# dictionary load\n",
    "true_headers=['term','AffectCategory','AssociationFlag']\n",
    "dictionary = pd.read_csv(dictionary_folder + dictionary_file, sep='\\t', header=None, names=true_headers)\n",
    "dictionary['AssociationFlag'] = dictionary['AssociationFlag'].astype('int64')\n",
    "dictionary = dictionary[dictionary['AssociationFlag'] == 1]\n",
    "dictionary = dictionary[dictionary['AffectCategory'] != 'positive']\n",
    "dictionary = dictionary[dictionary['AffectCategory'] != 'negative']"
   ]
  },
  {
   "cell_type": "code",
   "execution_count": 24,
   "metadata": {},
   "outputs": [],
   "source": [
    "# report load\n",
    "tmp=[]\n",
    "with open(output_folder + output_file, 'r') as f:\n",
    "    data = json.load(f)\n",
    "    values = list(data.values())\n",
    "    for i,value in enumerate(values):\n",
    "        try:                \n",
    "            if \"{\" not in value:\n",
    "                tmp.append({\"emotion\":\"Cannot adopt emotion\",\"explanation\":value.strip(),\"target_group\":target_group_name})\n",
    "            else:\n",
    "                tmp.append(json.loads(value.strip()))\n",
    "        except Exception as e:\n",
    "            print(e)\n",
    "            if value != '':\n",
    "                print(value.strip())\n",
    "                print(i,\"\\t\",value.strip())\n",
    "                \n",
    "    values = tmp\n",
    "    emotion = pd.DataFrame(values)\n",
    "    emotion['emotion'] = emotion['emotion'].str.lower()"
   ]
  },
  {
   "cell_type": "code",
   "execution_count": 25,
   "metadata": {},
   "outputs": [],
   "source": [
    "# join\n",
    "merged = pd.merge(emotion, dictionary, left_on='emotion', right_on='term', how='left')\n",
    "merged = merged.fillna('Cannot adopt emotion')\n",
    "merged.to_csv(output_folder + output_file.replace('.json', '_refactored.csv'), index=False, header=True, sep='\\t')"
   ]
  },
  {
   "cell_type": "code",
   "execution_count": 26,
   "metadata": {},
   "outputs": [
    {
     "data": {
      "text/html": [
       "<div>\n",
       "<style scoped>\n",
       "    .dataframe tbody tr th:only-of-type {\n",
       "        vertical-align: middle;\n",
       "    }\n",
       "\n",
       "    .dataframe tbody tr th {\n",
       "        vertical-align: top;\n",
       "    }\n",
       "\n",
       "    .dataframe thead th {\n",
       "        text-align: right;\n",
       "    }\n",
       "</style>\n",
       "<table border=\"1\" class=\"dataframe\">\n",
       "  <thead>\n",
       "    <tr style=\"text-align: right;\">\n",
       "      <th></th>\n",
       "      <th>target_group</th>\n",
       "    </tr>\n",
       "    <tr>\n",
       "      <th>AffectCategory</th>\n",
       "      <th></th>\n",
       "    </tr>\n",
       "  </thead>\n",
       "  <tbody>\n",
       "    <tr>\n",
       "      <th>Cannot adopt emotion</th>\n",
       "      <td>134</td>\n",
       "    </tr>\n",
       "    <tr>\n",
       "      <th>anger</th>\n",
       "      <td>471</td>\n",
       "    </tr>\n",
       "    <tr>\n",
       "      <th>anticipation</th>\n",
       "      <td>51</td>\n",
       "    </tr>\n",
       "    <tr>\n",
       "      <th>disgust</th>\n",
       "      <td>306</td>\n",
       "    </tr>\n",
       "    <tr>\n",
       "      <th>fear</th>\n",
       "      <td>367</td>\n",
       "    </tr>\n",
       "    <tr>\n",
       "      <th>joy</th>\n",
       "      <td>101</td>\n",
       "    </tr>\n",
       "    <tr>\n",
       "      <th>sadness</th>\n",
       "      <td>466</td>\n",
       "    </tr>\n",
       "    <tr>\n",
       "      <th>surprise</th>\n",
       "      <td>91</td>\n",
       "    </tr>\n",
       "    <tr>\n",
       "      <th>trust</th>\n",
       "      <td>54</td>\n",
       "    </tr>\n",
       "  </tbody>\n",
       "</table>\n",
       "</div>"
      ],
      "text/plain": [
       "                      target_group\n",
       "AffectCategory                    \n",
       "Cannot adopt emotion           134\n",
       "anger                          471\n",
       "anticipation                    51\n",
       "disgust                        306\n",
       "fear                           367\n",
       "joy                            101\n",
       "sadness                        466\n",
       "surprise                        91\n",
       "trust                           54"
      ]
     },
     "execution_count": 26,
     "metadata": {},
     "output_type": "execute_result"
    }
   ],
   "source": [
    "# print a pie chart of the number of each type of target_group\n",
    "target_group = merged.drop(columns=['emotion','explanation','term','AssociationFlag']).groupby('AffectCategory').count()\n",
    "target_group"
   ]
  }
 ],
 "metadata": {
  "kernelspec": {
   "display_name": "llama_3_instruct",
   "language": "python",
   "name": "python3"
  },
  "language_info": {
   "codemirror_mode": {
    "name": "ipython",
    "version": 3
   },
   "file_extension": ".py",
   "mimetype": "text/x-python",
   "name": "python",
   "nbconvert_exporter": "python",
   "pygments_lexer": "ipython3",
   "version": "3.11.5"
  }
 },
 "nbformat": 4,
 "nbformat_minor": 2
}
