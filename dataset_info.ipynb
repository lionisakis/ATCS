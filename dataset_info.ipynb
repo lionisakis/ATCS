{
 "cells": [
  {
   "cell_type": "code",
   "execution_count": 1,
   "metadata": {},
   "outputs": [],
   "source": [
    "import pandas as pd"
   ]
  },
  {
   "cell_type": "code",
   "execution_count": 2,
   "metadata": {},
   "outputs": [],
   "source": [
    "# Load the TSV file into a DataFrame\n",
    "file_path = 'dataset/deISEARenISEAR/de2enISEAR.tsv'\n",
    "df = pd.read_csv(file_path, sep='\\t')\n",
    "\n",
    "# Count the unique values in the 'Worker_id' column\n",
    "unique_worker_ids = df['Worker_id'].nunique()\n",
    "\n",
    "unique_events = df['Sentence_id'].nunique()"
   ]
  },
  {
   "cell_type": "code",
   "execution_count": 3,
   "metadata": {},
   "outputs": [],
   "source": [
    "rows_number = df.shape[0]"
   ]
  },
  {
   "cell_type": "code",
   "execution_count": 4,
   "metadata": {},
   "outputs": [
    {
     "name": "stdout",
     "output_type": "stream",
     "text": [
      "Total number of rows: 1001 for dataset/deISEARenISEAR/de2enISEAR.tsv\n",
      "The number of unique Worker IDs is: 49 for dataset/deISEARenISEAR/de2enISEAR.tsv\n",
      "The number of unique Sentence IDs is: 1001 for dataset/deISEARenISEAR/de2enISEAR.tsv\n"
     ]
    }
   ],
   "source": [
    "print(f\"Total number of rows: {rows_number} for {file_path}\")\n",
    "print(f'The number of unique Worker IDs is: {unique_worker_ids} for {file_path}')\n",
    "print(f'The number of unique Sentence IDs is: {unique_events} for {file_path}')"
   ]
  },
  {
   "cell_type": "code",
   "execution_count": 5,
   "metadata": {},
   "outputs": [],
   "source": [
    "# Load the TSV file into a DataFrame\n",
    "file_path = 'dataset/deISEARenISEAR/enISEAR_validation.tsv'\n",
    "df = pd.read_csv(file_path, sep='\\t')\n",
    "\n",
    "# Count the unique values in the 'Worker_id' column\n",
    "unique_worker_ids = df['Worker_id'].nunique()\n",
    "\n",
    "unique_events = df['Sentence_id'].nunique()"
   ]
  },
  {
   "cell_type": "code",
   "execution_count": 6,
   "metadata": {},
   "outputs": [],
   "source": [
    "\n",
    "# Count the unique values in the 'Worker_id' column\n",
    "unique_worker_ids = df['Worker_id'].nunique()\n",
    "\n",
    "unique_events = df['Sentence_id'].nunique()\n",
    "rows_number = df.shape[0]"
   ]
  },
  {
   "cell_type": "code",
   "execution_count": 7,
   "metadata": {},
   "outputs": [
    {
     "name": "stdout",
     "output_type": "stream",
     "text": [
      "Total number of rows: 5005 for dataset/deISEARenISEAR/enISEAR_validation.tsv\n",
      "The number of unique Worker IDs is: 34 for dataset/deISEARenISEAR/enISEAR_validation.tsv\n",
      "The number of unique Sentence IDs is: 1001 for dataset/deISEARenISEAR/enISEAR_validation.tsv\n"
     ]
    }
   ],
   "source": [
    "print(f\"Total number of rows: {rows_number} for {file_path}\")\n",
    "print(f'The number of unique Worker IDs is: {unique_worker_ids} for {file_path}')\n",
    "print(f'The number of unique Sentence IDs is: {unique_events} for {file_path}')"
   ]
  }
 ],
 "metadata": {
  "kernelspec": {
   "display_name": "llama_3_instruct",
   "language": "python",
   "name": "python3"
  },
  "language_info": {
   "codemirror_mode": {
    "name": "ipython",
    "version": 3
   },
   "file_extension": ".py",
   "mimetype": "text/x-python",
   "name": "python",
   "nbconvert_exporter": "python",
   "pygments_lexer": "ipython3",
   "version": "3.10.14"
  }
 },
 "nbformat": 4,
 "nbformat_minor": 2
}
